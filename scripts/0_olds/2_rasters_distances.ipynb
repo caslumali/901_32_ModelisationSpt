{
 "cells": [
  {
   "cell_type": "markdown",
   "metadata": {},
   "source": [
    "## **1. Paramètres**"
   ]
  },
  {
   "cell_type": "code",
   "execution_count": 10,
   "metadata": {},
   "outputs": [],
   "source": [
    "# Importation des bibliothèques\n",
    "import os\n",
    "import geopandas as gpd\n",
    "import fiona\n",
    "import rasterio\n",
    "from rasterio import features\n",
    "from rasterio.transform import from_origin\n",
    "import numpy as np\n",
    "from scipy import ndimage"
   ]
  },
  {
   "cell_type": "code",
   "execution_count": 11,
   "metadata": {},
   "outputs": [],
   "source": [
    "# Définition des chemins de sortie\n",
    "partial_output_path = '../data_brut/2_rasters'\n",
    "final_output_path = '../data_final'\n",
    "\n",
    "# Vérifier et créer les répertoires\n",
    "if not os.path.exists(partial_output_path):\n",
    "    os.makedirs(partial_output_path)\n",
    "\n",
    "if not os.path.exists(final_output_path):\n",
    "    os.makedirs(final_output_path)  \n"
   ]
  },
  {
   "cell_type": "code",
   "execution_count": 12,
   "metadata": {},
   "outputs": [
    {
     "name": "stdout",
     "output_type": "stream",
     "text": [
      "Couches disponibles dans le fichier GeoPackage :\n",
      "lieu_dit_non_habite\n",
      "adresse_ban\n",
      "aerodrome\n",
      "batiment\n",
      "canalisation\n",
      "cimetiere\n",
      "commune\n",
      "construction_lineaire\n",
      "construction_surfacique\n",
      "cours_d_eau\n",
      "departement\n",
      "equipement_de_transport\n",
      "foret_publique\n",
      "ligne_electrique\n",
      "parc_ou_reserve\n",
      "piste_d_aerodrome\n",
      "plan_d_eau\n",
      "region\n",
      "reservoir\n",
      "route_numerotee_ou_nommee\n",
      "surface_hydrographique\n",
      "terrain_de_sport\n",
      "toponymie_lieux_nommes\n",
      "toponymie_zones_reglementees\n",
      "transport_par_cable\n",
      "troncon_de_route\n",
      "troncon_de_voie_ferree\n",
      "troncon_hydrographique\n",
      "voie_nommee\n",
      "zone_d_activite_ou_d_interet\n",
      "zone_d_habitation\n",
      "zone_de_vegetation\n",
      "toulouse_metropole\n",
      "insee_carreaux_200m\n",
      "route_cyclabe_geovelo\n",
      "iris_pop_diplomes\n",
      "bio_markets\n",
      "iris_csp\n",
      "centroides_zones\n",
      "layer_styles\n"
     ]
    }
   ],
   "source": [
    "# Chemins des données\n",
    "path_bd = \"../data_brut/bd_tls.gpkg\"\n",
    "layers = fiona.listlayers(path_bd)\n",
    "\n",
    "# Afficher la liste des couches\n",
    "print(\"Couches disponibles dans le fichier GeoPackage :\")\n",
    "for layer in layers:\n",
    "    print(layer)"
   ]
  },
  {
   "cell_type": "code",
   "execution_count": 19,
   "metadata": {},
   "outputs": [],
   "source": [
    "# Charger les couches de lignes et de département\n",
    "pistes_cyclables = gpd.read_file(path_bd, layer='route_cyclabe_geovelo')\n",
    "routes_nommee = gpd.read_file(path_bd, layer='route_numerotee_ou_nommee')\n",
    "tls_met = gpd.read_file(path_bd, layer='toulouse_metropole')"
   ]
  },
  {
   "cell_type": "code",
   "execution_count": 14,
   "metadata": {},
   "outputs": [],
   "source": [
    "# Obtenir l'emprise du département\n",
    "minx, miny, maxx, maxy = tls_met.total_bounds"
   ]
  },
  {
   "cell_type": "markdown",
   "metadata": {},
   "source": [
    "### **2. Fonction pour calculer les distances**"
   ]
  },
  {
   "cell_type": "code",
   "execution_count": 15,
   "metadata": {},
   "outputs": [],
   "source": [
    "def calculate_distance(layer, mask_layer, output_name, resolution):\n",
    "    # Calculer la taille du raster en fonction de la résolution\n",
    "    n_cols = int(np.ceil((maxx - minx) / resolution))\n",
    "    n_rows = int(np.ceil((maxy - miny) / resolution))\n",
    "    transform = from_origin(minx, maxy, resolution, resolution)\n",
    "    raster_shape = (n_rows, n_cols)\n",
    "    \n",
    "    # Rasteriser la couche de lignes\n",
    "    shapes = ((geom, 1) for geom in layer.geometry)\n",
    "    rasterized = features.rasterize(\n",
    "        shapes=shapes,\n",
    "        out_shape=raster_shape,\n",
    "        transform=transform,\n",
    "        fill=0,\n",
    "        all_touched=True,\n",
    "        dtype=np.uint8\n",
    "    )\n",
    "    \n",
    "    # Calcul de la distance\n",
    "    distance = ndimage.distance_transform_edt(1 - rasterized) * resolution\n",
    "    distance = distance.astype('float32')\n",
    "    \n",
    "    # Appliquer le masque du département\n",
    "    shapes_mask = ((geom, 1) for geom in mask_layer.geometry)\n",
    "    raster_mask = features.rasterize(\n",
    "        shapes=shapes_mask,\n",
    "        out_shape=raster_shape,\n",
    "        transform=transform,\n",
    "        fill=0,\n",
    "        all_touched=True,\n",
    "        dtype=np.uint8\n",
    "    )\n",
    "    distance_masked = np.where(raster_mask == 1, distance, np.nan)\n",
    "    \n",
    "    # Enregistrer le raster avec compression LZW\n",
    "    output_filepath = os.path.join(partial_output_path, output_name)\n",
    "    compress_options = {\n",
    "        'compress': 'LZW',\n",
    "        'predictor': 3,\n",
    "        'tiled': True,\n",
    "        'blockxsize': 256,\n",
    "        'blockysize': 256\n",
    "    }\n",
    "    \n",
    "    with rasterio.open(\n",
    "        output_filepath,\n",
    "        'w',\n",
    "        driver='GTiff',\n",
    "        height=n_rows,\n",
    "        width=n_cols,\n",
    "        count=1,\n",
    "        dtype='float32',\n",
    "        crs=layer.crs,\n",
    "        transform=transform,\n",
    "        nodata=np.nan,\n",
    "        **compress_options\n",
    "    ) as dst:\n",
    "        dst.write(distance_masked, 1)\n",
    "    print(f\"Le raster est enregistré à l'emplacement : {output_filepath}\")"
   ]
  },
  {
   "cell_type": "markdown",
   "metadata": {},
   "source": [
    "### **3. Calculer les distances et sauvegarder les rasters**"
   ]
  },
  {
   "cell_type": "code",
   "execution_count": 16,
   "metadata": {},
   "outputs": [
    {
     "name": "stdout",
     "output_type": "stream",
     "text": [
      "Le raster est enregistré à l'emplacement : ../data_brut/2_rasters\\dist_pistes_cyclables_abs.tif\n",
      "Le raster est enregistré à l'emplacement : ../data_brut/2_rasters\\dist_routes_nommee_abs.tif\n"
     ]
    }
   ],
   "source": [
    "# Calculer et sauvegarder les rasters avec la résolution spécifiée\n",
    "calculate_distance(pistes_cyclables, tls_met, 'dist_pistes_cyclables_abs.tif', resolution=5)\n",
    "calculate_distance(routes_nommee, tls_met, 'dist_routes_nommee_abs.tif', resolution=5)"
   ]
  },
  {
   "cell_type": "markdown",
   "metadata": {},
   "source": [
    "### **3. Normalisátion des rasters**"
   ]
  },
  {
   "cell_type": "code",
   "execution_count": 17,
   "metadata": {},
   "outputs": [],
   "source": [
    "# Fonction pour normaliser les rasters en définissant 0 comme NoData\n",
    "def normaliser_raster(input_file, output_file):\n",
    "    with rasterio.open(input_file) as src:\n",
    "        data = src.read(1)\n",
    "        \n",
    "        # Remplacer NoData par NaN pour éviter qu'ils n'influencent la normalisation\n",
    "        data[data == src.nodata] = np.nan\n",
    "        \n",
    "        # Calculer les valeurs minimales et maximales en ignorant les NaN\n",
    "        min_val, max_val = np.nanmin(data), np.nanmax(data)\n",
    "        \n",
    "        # Normaliser les données entre 0 et 1\n",
    "        normalized_data = (data - min_val) / (max_val - min_val)\n",
    "        \n",
    "        # Attribuer NaN à tous les pixels avec la valeur 0 après la normalisation\n",
    "        normalized_data[normalized_data == 0] = np.nan\n",
    "        \n",
    "        # Mettre à jour le profil du raster pour définir NaN comme NoData\n",
    "        profile = src.profile\n",
    "        profile.update(dtype='float32', nodata=np.nan)\n",
    "    \n",
    "    # Sauvegarder le raster normalisé avec 0 comme NoData\n",
    "    with rasterio.open(output_file, 'w', **profile) as dst:\n",
    "        dst.write(normalized_data, 1)\n"
   ]
  },
  {
   "cell_type": "code",
   "execution_count": 18,
   "metadata": {},
   "outputs": [],
   "source": [
    "# Normaliser les raster\n",
    "normaliser_raster(f'{partial_output_path}/dist_pistes_cyclables_abs.tif', f'{final_output_path}/dist_pistes_cyclables_norm.tif')\n",
    "normaliser_raster(f'{partial_output_path}/dist_routes_nommee_abs.tif', f'{final_output_path}/dist_routes_nommee_norm.tif')\n"
   ]
  }
 ],
 "metadata": {
  "kernelspec": {
   "display_name": "ue901_emc",
   "language": "python",
   "name": "python3"
  },
  "language_info": {
   "codemirror_mode": {
    "name": "ipython",
    "version": 3
   },
   "file_extension": ".py",
   "mimetype": "text/x-python",
   "name": "python",
   "nbconvert_exporter": "python",
   "pygments_lexer": "ipython3",
   "version": "3.10.15"
  }
 },
 "nbformat": 4,
 "nbformat_minor": 2
}
